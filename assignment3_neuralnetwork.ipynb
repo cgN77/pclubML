{
  "cells": [
    {
      "cell_type": "markdown",
      "metadata": {
        "id": "view-in-github",
        "colab_type": "text"
      },
      "source": [
        "<a href=\"https://colab.research.google.com/github/cgN77/pclubML/blob/main/assignment3_neuralnetwork.ipynb\" target=\"_parent\"><img src=\"https://colab.research.google.com/assets/colab-badge.svg\" alt=\"Open In Colab\"/></a>"
      ]
    },
    {
      "cell_type": "markdown",
      "metadata": {
        "id": "P6toho7uRO7v"
      },
      "source": [
        "# Question 1\n",
        "## Developing an Artificial Neural Network from Scratch.\n",
        "\n",
        "In this notebook, we will be developing a feedforward neural network.\n",
        "\n",
        "We will import the MNIST dataset from keras datsets. The MNIST dataset contains images of 28x28 pixels each having values ranging from 0-255.\n",
        "It has 60000 images in the training set and 10000 images in the test set. However, we will only use the first 10000 images for training and first 1000 images for testing because our code isn't optimized and it takes time to run. We are not looking for accuracy of our network right now, we will be doing that in the next week when we will be implementing the same using Tensorflow.\n",
        "\n",
        "\n",
        "Run the first 3 cells. Your code begins after that."
      ]
    },
    {
      "cell_type": "code",
      "execution_count": 1,
      "metadata": {
        "id": "nI17X78rktdA"
      },
      "outputs": [],
      "source": [
        "import numpy as np\n",
        "from keras.datasets import mnist\n",
        "import random"
      ]
    },
    {
      "cell_type": "code",
      "execution_count": 2,
      "metadata": {
        "colab": {
          "base_uri": "https://localhost:8080/"
        },
        "id": "OrINntzulT4M",
        "outputId": "d1155375-4352-4552-c030-d3edd910d433"
      },
      "outputs": [
        {
          "output_type": "stream",
          "name": "stdout",
          "text": [
            "Downloading data from https://storage.googleapis.com/tensorflow/tf-keras-datasets/mnist.npz\n",
            "11490434/11490434 [==============================] - 1s 0us/step\n",
            "(60000, 28, 28)\n",
            "(60000,)\n",
            "(10000, 28, 28)\n",
            "(10000,)\n"
          ]
        }
      ],
      "source": [
        "(train_X, train_y), (test_X, test_y) = mnist.load_data()\n",
        "print(train_X.shape)\n",
        "print(train_y.shape)\n",
        "print(test_X.shape)\n",
        "print(test_y.shape)"
      ]
    },
    {
      "cell_type": "markdown",
      "source": [
        "As discussed in the class, the images are flattened to a column.\n",
        "\n",
        "Then we are normalizing them by dividing by 255."
      ],
      "metadata": {
        "id": "dr4rLzb9ZBQE"
      }
    },
    {
      "cell_type": "code",
      "execution_count": 3,
      "metadata": {
        "id": "0jy7CLWCEwfn"
      },
      "outputs": [],
      "source": [
        "train_X=train_X.reshape(60000,784,1)    # flattening\n",
        "test_X=test_X.reshape(10000,784,1)\n",
        "\n",
        "train_y=train_y.reshape(60000,1)\n",
        "test_y=test_y.reshape(10000,1)\n",
        "\n",
        "train_X= train_X/255\n",
        "test_X = test_X/255\n",
        "\n",
        "train_X=train_X[:10000]         #taking the first 10000 images.\n",
        "train_y=train_y[:10000]\n",
        "test_X=test_X[:1000]\n",
        "test_y=test_y[:1000]\n",
        "train_data=list(zip(train_X,train_y))\n",
        "test_data=list(zip(test_X,test_y))"
      ]
    },
    {
      "cell_type": "markdown",
      "source": [
        "## 1.1 Write the code for Sigmoid Function."
      ],
      "metadata": {
        "id": "wWwDzh6kZOy3"
      }
    },
    {
      "cell_type": "code",
      "execution_count": 4,
      "metadata": {
        "id": "7Q5a8tGYku-7"
      },
      "outputs": [],
      "source": [
        "def sigmoid(z):\n",
        "  return 1/(1+np.exp(-z))"
      ]
    },
    {
      "cell_type": "markdown",
      "source": [
        "## 1.2 The Network\n",
        "\n",
        "We will making a class called Network which has certain functions inside it. The cost function used is Cross-Entropy Loss. You need to code only the first 3. Rest are done for you.  There are various places within the code marked as stop_zone. Read the instructions below the code at those places to check whether your code till there is correct or not."
      ],
      "metadata": {
        "id": "cIJI5SoxbJaq"
      }
    },
    {
      "cell_type": "code",
      "execution_count": 77,
      "metadata": {
        "id": "RwsydmyTEt0z"
      },
      "outputs": [],
      "source": [
        "class Network(object):\n",
        "    def __init__(self,sizes): # sizes is a list containing the network.\n",
        "                              # eg : [784,128,10] means input =784 neurons,\n",
        "                              #    1st hidden layer 128 neurons, output 10 neurons.\n",
        "        self.sizes=sizes\n",
        "        self.num_layers=len(sizes)\n",
        "        self.weights= [np.random.randn(x,y) for x,y in zip(sizes[1:],sizes[:-1])] #128-784 | 10-128\n",
        "        self.biases= [np.random.randn(b,1) for b in sizes[1:]]\n",
        "\n",
        "    def show(self):\n",
        "        print(self.num_layers)\n",
        "        for bias in self.biases:\n",
        "            print(bias.shape)\n",
        "        for weight in self.weights:\n",
        "            print(weight.shape)\n",
        "\n",
        "\n",
        "# stop_zone 1. Comment out all the code below. Select all rows below. Click Ctrl + /.\n",
        "# Include the show function given below above this comment area inside the class.\n",
        "# Run this cell and then run the code with stop_zone 1 written below.\n",
        "# After this testing, don't forget tto remove the comments. Same, select all, Ctrl+/.\n",
        "\n",
        "    def forwardpropagation(self,a):\n",
        "        for b,w in zip(self.biases, self.weights):\n",
        "            a=sigmoid(np.dot(w,a)+b) # sig (w.a +b)\n",
        "            #print(a.shape)\n",
        "        return a\n",
        "\n",
        "# stop_zone 2. Comment out all the code below. Don't comment out the __init__ method else you will get error.\n",
        "# Remove comment from print(a.shape) line above. Run this cell. And run the code with stop_zone 2 written below.\n",
        "\n",
        "\n",
        "    def backpropagation(self,x,y):\n",
        "\n",
        "        # nothing to do in this 3 lines.\n",
        "        y_t = np.zeros((len(y), 10))\n",
        "        y_t[np.arange(len(y)), y] = 1\n",
        "        y_t= y_t.T\n",
        "\n",
        "        #nabla_b=dC/db and nabla_w=dC/dw. They are lists of shapes equal to that of bias and weights.\n",
        "        nabla_b=[np.zeros(b.shape) for b in self.biases]\n",
        "        nabla_w=[np.zeros(w.shape) for w in self.weights]\n",
        "\n",
        "        # initially, a0 = input.\n",
        "        activation=x\n",
        "        activation_list=[x]\n",
        "\n",
        "        # step 1 : calculation of delta in last layer\n",
        "\n",
        "        # write the same forward propagation code here but while doing so store the a's.\n",
        "        for w,b in zip(self.weights,self.biases):\n",
        "            activation=sigmoid(np.dot(w,activation)+b)\n",
        "            activation_list.append(activation)\n",
        "\n",
        "        delta= [activation_list[-1]-y_t]\n",
        "        delta=np.reshape(delta,(self.sizes[-1],1))\n",
        "\n",
        "        # step 2 : nabla_b and nabla_w relation with delta of last layer\n",
        "\n",
        "        nabla_b[-1]=delta\n",
        "        nabla_w[-1]=delta@activation_list[-2].T\n",
        "\n",
        "        #print(\"{} {}\".format(nabla_b[-1].shape,nabla_w[-1].shape) )\n",
        "#stop_zone 3 : remove comment from the print statement just above and run the cell for stop_zone3.\n",
        "# don't forget commenting out.\n",
        "\n",
        "        # step 3 : calculation of delta for hidden layers\n",
        "        #print(delta.shape)\n",
        "\n",
        "        for j in range(2,self.num_layers):\n",
        "            sig_der = activation_list[-j]*(1-activation_list[-j])\n",
        "            delta = np.dot(self.weights[-j+1].T,delta) * sig_der\n",
        "\n",
        "            # step 4 : nabla_b and nabla_w relation with delta of others layers\n",
        "            nabla_b[-j]= delta\n",
        "            nabla_w[-j]= delta@activation_list[-j-1].T\n",
        "\n",
        "# stop_zone 4 : Run the cell for stop_zone 4.\n",
        "        return (nabla_b,nabla_w)\n",
        "\n",
        "    # the functions below are complete. If you are fine till stop_zone 4, you can run\n",
        "    # this whole cell and train, test the data by running the last cell of the question.\n",
        "    # You may need to wait for around 10 minutes to see the test predictions.\n",
        "    def update_mini_batch(self,mini_batch,lr):\n",
        "        nabla_b=[np.zeros(b.shape) for b in self.biases]\n",
        "        nabla_w=[np.zeros(w.shape) for w in self.weights]\n",
        "        for x,y in mini_batch:\n",
        "            delta_b,delta_w= self.backpropagation(x,y)\n",
        "            nabla_b=[nb+ db for nb,db in zip (nabla_b,delta_b)]\n",
        "            nabla_w=[nw+dw for nw,dw in zip(nabla_w,delta_w)]\n",
        "\n",
        "        self.weights=[w- lr*nw/len(mini_batch) for w,nw in zip(self.weights,nabla_w)]\n",
        "        self.biases=[b-lr*nb/len(mini_batch) for b,nb in zip(self.biases,nabla_b)]\n",
        "\n",
        "\n",
        "    def SGD(self, train_data,epochs,mini_batch_size, lr):\n",
        "        n_train= len(train_data)\n",
        "        for i in range(epochs):\n",
        "            random.shuffle(train_data)\n",
        "            mini_batches = [train_data[k:k+ mini_batch_size] for k in range(0,n_train,mini_batch_size)]\n",
        "            for mini_batch in mini_batches:\n",
        "                self.update_mini_batch(mini_batch,lr)\n",
        "\n",
        "            self.predict(train_data)\n",
        "            print(\"Epoch {0} completed.\".format(i+1))\n",
        "\n",
        "    def predict(self,test_data):\n",
        "        test_results = [(np.argmax(self.forwardpropagation(x)),y) for x,y in test_data]\n",
        "        # returns the index of that output neuron which has highest activation\n",
        "\n",
        "        num= sum(int (x==y) for x,y in test_results)\n",
        "        print (\"{0}/{1} classified correctly.\".format(num,len(test_data)))\n",
        "\n"
      ]
    },
    {
      "cell_type": "code",
      "execution_count": null,
      "metadata": {
        "id": "8u8cVnGamVgP",
        "colab": {
          "base_uri": "https://localhost:8080/"
        },
        "outputId": "0015ed3a-370d-4826-bb91-564d73bb91c6"
      },
      "outputs": [
        {
          "output_type": "stream",
          "name": "stdout",
          "text": [
            "4\n",
            "(128, 1)\n",
            "(64, 1)\n",
            "(10, 1)\n",
            "(128, 784)\n",
            "(64, 128)\n",
            "(10, 64)\n"
          ]
        }
      ],
      "source": [
        "# stop_zone 1\n",
        "\n",
        "# def show(self):\n",
        "#   print(self.num_layers)\n",
        "#   for bias in self.biases:\n",
        "#       print(bias.shape)\n",
        "#   for weight in self.weights:\n",
        "#       print(weight.shape)\n",
        "\n",
        "# Copy this show function from here. Paste it inside that Network Class.\n",
        "# Comment out the show function here. Run this cell.\n",
        "\n",
        "net=Network([784,128,64,10])\n",
        "net.show()\n",
        "\n",
        "# The desired output is :\n",
        "# 4\n",
        "# (128, 1)\n",
        "# (64, 1)\n",
        "# (10, 1)\n",
        "# (128, 784)\n",
        "# (64, 128)\n",
        "# (10, 64)\n",
        "#  If you are getting this, you are correct. Proceed to forwardpropagation.\n",
        "\n",
        "# Keeping the show function over there in the Network class doesn't make any\n",
        "# difference. You may delete it if you wish. Better toss a coin."
      ]
    },
    {
      "cell_type": "code",
      "execution_count": null,
      "metadata": {
        "id": "D7EJBF7XsSft",
        "colab": {
          "base_uri": "https://localhost:8080/"
        },
        "outputId": "db4539e8-ee0c-479a-d325-33702f62db26"
      },
      "outputs": [
        {
          "output_type": "stream",
          "name": "stdout",
          "text": [
            "(784, 1)\n",
            "(128, 1)\n",
            "(64, 1)\n",
            "(10, 1)\n",
            "[[9.98920352e-01]\n",
            " [8.59090928e-01]\n",
            " [4.10110732e-03]\n",
            " [1.11429436e-02]\n",
            " [9.95329858e-01]\n",
            " [7.05337777e-01]\n",
            " [3.20543747e-01]\n",
            " [9.96515032e-01]\n",
            " [6.04632403e-04]\n",
            " [5.10698959e-03]]\n"
          ]
        }
      ],
      "source": [
        "# stop_zone 2\n",
        "# to use this, make sure your data is loaded. Run this cell.\n",
        "net=Network([784,128,64,10])\n",
        "print(train_X[0].shape)\n",
        "print(net.forwardpropagation(train_X[0]))\n",
        "\n",
        "# The desired output is :\n",
        "# (784, 1)\n",
        "# (128, 1)\n",
        "# (64, 1)\n",
        "# (10, 1)\n",
        "#  If you are getting this, you are correct. Proceed to forwardpropagation."
      ]
    },
    {
      "cell_type": "code",
      "source": [
        "# stop_zone 3\n",
        "net=Network([784,128,64,10])\n",
        "net.backpropagation(train_X[0],train_y[0])\n",
        "\n",
        "# Desired output : (10,1) (10,64)"
      ],
      "metadata": {
        "id": "FwHWyaKNhIIk",
        "colab": {
          "base_uri": "https://localhost:8080/"
        },
        "outputId": "c34e42de-ce80-4bc3-f80d-6cf771366a9a"
      },
      "execution_count": 69,
      "outputs": [
        {
          "output_type": "stream",
          "name": "stdout",
          "text": [
            "(10, 1)\n"
          ]
        },
        {
          "output_type": "execute_result",
          "data": {
            "text/plain": [
              "([array([[ 1.09559238e-03],\n",
              "         [-5.94638198e-06],\n",
              "         [ 2.37563019e-02],\n",
              "         [ 1.60651047e-01],\n",
              "         [-4.15740398e-03],\n",
              "         [ 2.13787915e-02],\n",
              "         [-4.40634347e-02],\n",
              "         [ 5.71363238e-02],\n",
              "         [-1.33174433e-01],\n",
              "         [ 2.20058073e-05],\n",
              "         [ 2.53998673e-02],\n",
              "         [-1.49373337e-09],\n",
              "         [-7.11612520e-09],\n",
              "         [ 4.22304967e-01],\n",
              "         [-7.74341640e-03],\n",
              "         [-6.10931889e-05],\n",
              "         [ 2.19238454e-04],\n",
              "         [-3.69660906e-05],\n",
              "         [ 8.22034534e-01],\n",
              "         [ 4.47638454e-01],\n",
              "         [ 9.28827337e-06],\n",
              "         [-8.41620346e-06],\n",
              "         [-8.64739705e-06],\n",
              "         [-2.72495275e-02],\n",
              "         [-1.99787279e-03],\n",
              "         [-1.85593339e-01],\n",
              "         [-2.18455686e-03],\n",
              "         [-1.91707269e-01],\n",
              "         [-2.36968779e-02],\n",
              "         [ 5.39030332e-05],\n",
              "         [ 3.12478491e-03],\n",
              "         [-9.61929387e-09],\n",
              "         [-4.37999826e-12],\n",
              "         [-3.52354465e-05],\n",
              "         [ 5.80065912e-07],\n",
              "         [ 8.54673825e-04],\n",
              "         [-6.73570571e-09],\n",
              "         [ 4.65766969e-03],\n",
              "         [ 1.87877272e-02],\n",
              "         [-4.38781823e-03],\n",
              "         [ 2.56652666e-01],\n",
              "         [ 2.73304800e-08],\n",
              "         [-1.07735702e-02],\n",
              "         [ 1.98026424e-02],\n",
              "         [-1.25567369e-03],\n",
              "         [ 1.02924962e-01],\n",
              "         [ 1.60864895e-06],\n",
              "         [-2.41993874e-05],\n",
              "         [ 2.31861239e-07],\n",
              "         [ 1.82282498e-04],\n",
              "         [-5.65237654e-03],\n",
              "         [ 1.30213429e-06],\n",
              "         [ 9.50527803e-14],\n",
              "         [-8.73726185e-03],\n",
              "         [ 1.57885652e-03],\n",
              "         [ 2.64761084e-03],\n",
              "         [-1.14335764e-07],\n",
              "         [ 1.56693500e-06],\n",
              "         [-8.37161797e-03],\n",
              "         [-2.92346827e-02],\n",
              "         [-4.14505049e-04],\n",
              "         [-6.89542929e-06],\n",
              "         [-8.26537054e-02],\n",
              "         [-5.26748074e-02],\n",
              "         [-7.26786216e-08],\n",
              "         [ 2.55574558e-01],\n",
              "         [-5.98315256e-02],\n",
              "         [-7.31428154e-05],\n",
              "         [ 3.54969761e-06],\n",
              "         [-1.57826415e-04],\n",
              "         [ 1.61692305e-03],\n",
              "         [ 4.91858718e-03],\n",
              "         [-2.81260560e-04],\n",
              "         [-2.79217585e-01],\n",
              "         [ 2.36033767e-01],\n",
              "         [-6.78305910e-02],\n",
              "         [ 1.50040720e-04],\n",
              "         [-4.05752704e-02],\n",
              "         [ 5.85921177e-06],\n",
              "         [ 8.88502502e-02],\n",
              "         [-4.48628428e-02],\n",
              "         [-3.43702140e-05],\n",
              "         [-6.77808431e-04],\n",
              "         [-1.28255714e-07],\n",
              "         [ 3.73655101e-05],\n",
              "         [-4.65998864e-02],\n",
              "         [-6.42078396e-02],\n",
              "         [ 1.70813069e-01],\n",
              "         [-1.17384730e-07],\n",
              "         [-2.19236683e-09],\n",
              "         [-1.25998169e-01],\n",
              "         [ 9.11460100e-06],\n",
              "         [-2.27236445e-02],\n",
              "         [ 9.45816636e-03],\n",
              "         [-3.42008902e-09],\n",
              "         [ 1.61714042e-10],\n",
              "         [ 3.50168188e-05],\n",
              "         [-2.85194167e-03],\n",
              "         [-9.78900981e-06],\n",
              "         [-7.60283108e-05],\n",
              "         [-7.78215918e-03],\n",
              "         [ 2.20201934e-01],\n",
              "         [-3.19846918e-02],\n",
              "         [-9.62362911e-02],\n",
              "         [-1.25306122e-02],\n",
              "         [-4.45260344e-05],\n",
              "         [ 8.91635547e-01],\n",
              "         [-2.43064297e-08],\n",
              "         [ 6.62397441e-02],\n",
              "         [ 4.59915251e-03],\n",
              "         [ 3.38211191e-04],\n",
              "         [-1.47523632e-01],\n",
              "         [ 8.21501271e-07],\n",
              "         [ 1.19809434e-03],\n",
              "         [ 9.91483082e-02],\n",
              "         [ 1.22352054e-03],\n",
              "         [ 1.11377543e-04],\n",
              "         [-6.39791839e-06],\n",
              "         [-3.46841243e-07],\n",
              "         [ 1.71338664e-04],\n",
              "         [-2.11589164e-03],\n",
              "         [ 2.37925579e-01],\n",
              "         [ 2.22723850e-01],\n",
              "         [ 2.23243505e-06],\n",
              "         [-7.49637998e-06],\n",
              "         [-1.26664414e-07],\n",
              "         [ 2.58866270e-05],\n",
              "         [ 1.19600564e-07]]),\n",
              "  array([[ 5.54906886e-02],\n",
              "         [-8.76783933e-05],\n",
              "         [-1.83882365e-02],\n",
              "         [-6.07868624e-04],\n",
              "         [ 1.96626980e-05],\n",
              "         [-3.18617296e-03],\n",
              "         [ 1.59695110e-05],\n",
              "         [-3.27049544e-02],\n",
              "         [ 7.33586486e-02],\n",
              "         [ 4.12009032e-02],\n",
              "         [-2.01267622e-01],\n",
              "         [-1.87047312e-01],\n",
              "         [ 3.85270639e-03],\n",
              "         [-8.39398625e-04],\n",
              "         [-3.94691279e-03],\n",
              "         [ 3.87254856e-06],\n",
              "         [-6.04872572e-01],\n",
              "         [ 5.67723430e-05],\n",
              "         [-3.17514135e-02],\n",
              "         [ 9.50900545e-02],\n",
              "         [-3.64488922e-04],\n",
              "         [ 8.44632404e-01],\n",
              "         [-3.42657082e-01],\n",
              "         [ 1.61227031e-01],\n",
              "         [ 3.32237632e-02],\n",
              "         [ 9.83168750e-01],\n",
              "         [ 1.16157391e-08],\n",
              "         [ 2.02380269e-02],\n",
              "         [ 4.23545748e-02],\n",
              "         [ 2.67724126e-04],\n",
              "         [ 2.60739212e-04],\n",
              "         [ 5.66637285e-04],\n",
              "         [-1.01828294e-03],\n",
              "         [-1.13693953e-01],\n",
              "         [ 1.33553481e-01],\n",
              "         [-1.38280118e-03],\n",
              "         [-1.01439266e-02],\n",
              "         [ 3.83660977e-02],\n",
              "         [-2.98589831e-01],\n",
              "         [-1.22657629e-06],\n",
              "         [ 4.72769584e-03],\n",
              "         [ 7.10045370e-02],\n",
              "         [ 5.12689806e-01],\n",
              "         [-2.15812496e-08],\n",
              "         [-2.67598950e-02],\n",
              "         [ 1.15890675e-01],\n",
              "         [-3.94729169e-03],\n",
              "         [-3.34554776e-01],\n",
              "         [-4.33147683e-03],\n",
              "         [-7.95535007e-04],\n",
              "         [-1.66990821e-03],\n",
              "         [-8.11372421e-01],\n",
              "         [-2.13242468e-03],\n",
              "         [-1.08403266e-01],\n",
              "         [-3.14412944e-04],\n",
              "         [-1.62938041e-04],\n",
              "         [-2.21187032e-05],\n",
              "         [-1.16534316e-02],\n",
              "         [-2.28034779e-07],\n",
              "         [-2.75298297e-02],\n",
              "         [-5.76414025e-04],\n",
              "         [ 9.62865731e-02],\n",
              "         [ 1.02815169e-02],\n",
              "         [-3.68137598e-03]]),\n",
              "  array([[-1.68023323e-01],\n",
              "         [-2.29746079e-05],\n",
              "         [-1.04737098e+00],\n",
              "         [-3.71506143e-03],\n",
              "         [-9.41418513e-01],\n",
              "         [-1.12664865e+00],\n",
              "         [-1.05469262e+00],\n",
              "         [-3.46347746e-01],\n",
              "         [-2.89734066e-02],\n",
              "         [-1.11748334e+00]])],\n",
              " [array([[0., 0., 0., ..., 0., 0., 0.],\n",
              "         [0., 0., 0., ..., 0., 0., 0.],\n",
              "         [0., 0., 0., ..., 0., 0., 0.],\n",
              "         ...,\n",
              "         [0., 0., 0., ..., 0., 0., 0.],\n",
              "         [0., 0., 0., ..., 0., 0., 0.],\n",
              "         [0., 0., 0., ..., 0., 0., 0.]]),\n",
              "  array([[ 5.54431004e-02,  6.17475882e-06,  2.25529709e-02, ...,\n",
              "           5.54906858e-02,  5.54884036e-02,  5.54906850e-02],\n",
              "         [-8.76032014e-05, -9.75646448e-09, -3.56349561e-05, ...,\n",
              "          -8.76783889e-05, -8.76747830e-05, -8.76783876e-05],\n",
              "         [-1.83724670e-02, -2.04616177e-06, -7.47349463e-03, ...,\n",
              "          -1.83882356e-02, -1.83874794e-02, -1.83882353e-02],\n",
              "         ...,\n",
              "         [ 9.62039989e-02,  1.07143447e-05,  3.91335616e-02, ...,\n",
              "           9.62865683e-02,  9.62826083e-02,  9.62865668e-02],\n",
              "         [ 1.02726996e-02,  1.14408181e-06,  4.17869660e-03, ...,\n",
              "           1.02815164e-02,  1.02810936e-02,  1.02815162e-02],\n",
              "         [-3.67821887e-03, -4.09647265e-07, -1.49621436e-03, ...,\n",
              "          -3.68137579e-03, -3.68122439e-03, -3.68137574e-03]]),\n",
              "  array([[-3.03737453e-03, -1.68017947e-01, -2.74849516e-03,\n",
              "          -1.67948812e-01, -1.68020828e-01, -1.64423419e-01,\n",
              "          -1.68022204e-01, -1.65420885e-01, -2.82054802e-02,\n",
              "          -2.94581302e-03, -1.38914957e-01, -1.47543088e-02,\n",
              "          -1.67577059e-01, -1.67658060e-01, -1.02407997e-03,\n",
              "          -1.68021690e-01, -2.65866991e-02, -1.34637365e-05,\n",
              "          -3.66522155e-02, -1.35198683e-02, -4.87325400e-05,\n",
              "          -1.03085170e-01, -3.26914971e-02, -3.35356587e-02,\n",
              "          -1.61274350e-01, -4.47131595e-02, -1.68023321e-01,\n",
              "          -1.58380541e-01, -1.61130961e-01, -3.41868186e-05,\n",
              "          -1.67993529e-01, -1.68006035e-01, -1.36083004e-04,\n",
              "          -5.71087642e-03, -1.56115643e-01, -1.67921530e-01,\n",
              "          -9.07403493e-04, -8.32110825e-03, -3.90185327e-02,\n",
              "          -1.68022891e-01, -2.65902565e-04, -1.44212899e-01,\n",
              "          -8.39668177e-02, -1.41541354e-09, -1.41091048e-02,\n",
              "          -5.16606890e-02, -1.33218195e-03, -7.51521461e-02,\n",
              "          -4.55071723e-04, -3.88412567e-05, -7.96700887e-05,\n",
              "          -2.69552040e-02, -3.06425043e-02, -1.02311418e-02,\n",
              "          -1.67988700e-01, -1.89670082e-05, -1.08966605e-06,\n",
              "          -1.67145437e-01, -1.68023315e-01, -1.63407403e-01,\n",
              "          -1.67998605e-01, -3.13527609e-03, -1.63111924e-01,\n",
              "          -8.24641100e-02],\n",
              "         [-4.15314300e-07, -2.29738728e-05, -3.75814485e-07,\n",
              "          -2.29644196e-05, -2.29742667e-05, -2.24823763e-05,\n",
              "          -2.29744549e-05, -2.26187645e-05, -3.85666606e-06,\n",
              "          -4.02794670e-07, -1.89944860e-05, -2.01742503e-06,\n",
              "          -2.29135880e-05, -2.29246637e-05, -1.40027202e-07,\n",
              "          -2.29743845e-05, -3.63532261e-06, -1.84095911e-09,\n",
              "          -5.01162733e-06, -1.84863427e-06, -6.66342610e-09,\n",
              "          -1.40953132e-05, -4.47005994e-06, -4.58548607e-06,\n",
              "          -2.20517895e-05, -6.11383757e-06, -2.29746076e-05,\n",
              "          -2.16561056e-05, -2.20321833e-05, -4.67452218e-09,\n",
              "          -2.29705339e-05, -2.29722440e-05, -1.86072600e-08,\n",
              "          -7.80874606e-07, -2.13464156e-05, -2.29606892e-05,\n",
              "          -1.24073486e-07, -1.13778371e-06, -5.33518485e-06,\n",
              "          -2.29745487e-05, -3.63580904e-08, -1.97188982e-05,\n",
              "          -1.14811722e-05, -1.93536055e-13, -1.92920331e-06,\n",
              "          -7.06380548e-06, -1.82155413e-07, -1.02759013e-05,\n",
              "          -6.22240663e-08, -5.31094509e-09, -1.08936605e-08,\n",
              "          -3.68570999e-06, -4.18989166e-06, -1.39895145e-06,\n",
              "          -2.29698737e-05, -2.59344696e-09, -1.48995090e-10,\n",
              "          -2.28545704e-05, -2.29746067e-05, -2.23434518e-05,\n",
              "          -2.29712280e-05, -4.28700834e-07, -2.23030495e-05,\n",
              "          -1.12757000e-05],\n",
              "         [-1.89334307e-02, -1.04733747e+00, -1.71327053e-02,\n",
              "          -1.04690651e+00, -1.04735543e+00, -1.02493103e+00,\n",
              "          -1.04736401e+00, -1.03114872e+00, -1.75818457e-01,\n",
              "          -1.83626833e-02, -8.65924394e-01, -9.19707725e-02,\n",
              "          -1.04458920e+00, -1.04509412e+00, -6.38358783e-03,\n",
              "          -1.04736080e+00, -1.65727808e-01, -8.39260088e-05,\n",
              "          -2.28471061e-01, -8.42759057e-02, -3.03773590e-04,\n",
              "          -6.42579932e-01, -2.03781979e-01, -2.09044048e-01,\n",
              "          -1.00530135e+00, -2.78718839e-01, -1.04737097e+00,\n",
              "          -9.87262834e-01, -1.00440754e+00, -2.13103044e-04,\n",
              "          -1.04718526e+00, -1.04726321e+00, -8.48271460e-04,\n",
              "          -3.55986664e-02, -9.73144627e-01, -1.04673645e+00,\n",
              "          -5.65628669e-03, -5.18695092e-02, -2.43221465e-01,\n",
              "          -1.04736828e+00, -1.65749983e-03, -8.98949041e-01,\n",
              "          -5.23405956e-01, -8.82296006e-09, -8.79489030e-02,\n",
              "          -3.22026165e-01, -8.30413711e-03, -4.68459827e-01,\n",
              "          -2.83668307e-03, -2.42116418e-04, -4.96622357e-04,\n",
              "          -1.68024878e-01, -1.91009612e-01, -6.37756762e-02,\n",
              "          -1.04715516e+00, -1.18230574e-04, -6.79241771e-06,\n",
              "          -1.04189869e+00, -1.04737093e+00, -1.01859771e+00,\n",
              "          -1.04721690e+00, -1.95436986e-02, -1.01675584e+00,\n",
              "          -5.14038849e-01],\n",
              "         [-6.71575395e-05, -3.71494255e-03, -6.07703036e-05,\n",
              "          -3.71341395e-03, -3.71500626e-03, -3.63546614e-03,\n",
              "          -3.71503669e-03, -3.65752051e-03, -6.23634204e-04,\n",
              "          -6.51330786e-05, -3.07146405e-03, -3.26223540e-04,\n",
              "          -3.70519434e-03, -3.70698531e-03, -2.26428089e-05,\n",
              "          -3.71502531e-03, -5.87842320e-04, -2.97688483e-07,\n",
              "          -8.10394827e-04, -2.98929579e-04, -1.07749553e-06,\n",
              "          -2.27925345e-03, -7.22821793e-04, -7.41486536e-04,\n",
              "          -3.56583898e-03, -9.88625452e-04, -3.71506138e-03,\n",
              "          -3.50185574e-03, -3.56266860e-03, -7.55883936e-07,\n",
              "          -3.71440266e-03, -3.71467917e-03, -3.00884848e-06,\n",
              "          -1.26269712e-04, -3.45177796e-03, -3.71281074e-03,\n",
              "          -2.00630463e-05, -1.83982960e-04, -8.62715026e-04,\n",
              "          -3.71505186e-03, -5.87920977e-06, -3.18860363e-03,\n",
              "          -1.85653920e-03, -3.12953473e-11, -3.11957829e-04,\n",
              "          -1.14223805e-03, -2.94550642e-05, -1.66164336e-03,\n",
              "          -1.00618139e-05, -8.58795386e-07, -1.76153684e-06,\n",
              "          -5.95990108e-04, -6.77517760e-04, -2.26214550e-04,\n",
              "          -3.71429589e-03, -4.19367973e-07, -2.40929427e-08,\n",
              "          -3.69565101e-03, -3.71506124e-03, -3.61300163e-03,\n",
              "          -3.71451490e-03, -6.93221813e-05, -3.60646847e-03,\n",
              "          -1.82331374e-03],\n",
              "         [-1.70181172e-02, -9.41388389e-01, -1.53995539e-02,\n",
              "          -9.41001031e-01, -9.41404531e-01, -9.21248596e-01,\n",
              "          -9.41412243e-01, -9.26837302e-01, -1.58032591e-01,\n",
              "          -1.65051069e-02, -7.78327135e-01, -8.26669723e-02,\n",
              "          -9.38918134e-01, -9.39371976e-01, -5.73782153e-03,\n",
              "          -9.41409359e-01, -1.48962717e-01, -7.54360201e-05,\n",
              "          -2.05358836e-01, -7.57505213e-02, -2.73043732e-04,\n",
              "          -5.77576289e-01, -1.83167312e-01, -1.87897068e-01,\n",
              "          -9.03604664e-01, -2.50523530e-01, -9.41418500e-01,\n",
              "          -8.87390930e-01, -9.02801270e-01, -1.91545455e-04,\n",
              "          -9.41251575e-01, -9.41321646e-01, -7.62459979e-04,\n",
              "          -3.19974910e-02, -8.74700927e-01, -9.40848174e-01,\n",
              "          -5.08409446e-03, -4.66223688e-02, -2.18617084e-01,\n",
              "          -9.41416088e-01, -1.48982649e-03, -8.08010996e-01,\n",
              "          -4.70458000e-01, -7.93042588e-09, -7.90519567e-02,\n",
              "          -2.89449869e-01, -7.46408727e-03, -4.21070243e-01,\n",
              "          -2.54972308e-03, -2.17623824e-04, -4.46383840e-04,\n",
              "          -1.51027414e-01, -1.71687003e-01, -5.73241033e-02,\n",
              "          -9.41224521e-01, -1.06270322e-04, -6.10529401e-06,\n",
              "          -9.36499798e-01, -9.41418464e-01, -9.15555957e-01,\n",
              "          -9.41280018e-01, -1.75666503e-02, -9.13900414e-01,\n",
              "          -4.62038473e-01],\n",
              "         [-2.03665411e-02, -1.12661260e+00, -1.84295150e-02,\n",
              "          -1.12614903e+00, -1.12663192e+00, -1.10251017e+00,\n",
              "          -1.12664115e+00, -1.10919849e+00, -1.89126519e-01,\n",
              "          -1.97525926e-02, -9.31467997e-01, -9.89322299e-02,\n",
              "          -1.12365631e+00, -1.12419944e+00, -6.86677476e-03,\n",
              "          -1.12663770e+00, -1.78272088e-01, -9.02785414e-05,\n",
              "          -2.45764506e-01, -9.06549228e-02, -3.26766840e-04,\n",
              "          -6.91218132e-01, -2.19206657e-01, -2.24867023e-01,\n",
              "          -1.08139468e+00, -2.99815643e-01, -1.12664864e+00,\n",
              "          -1.06199079e+00, -1.08043322e+00, -2.29233253e-04,\n",
              "          -1.12644887e+00, -1.12653272e+00, -9.12478876e-04,\n",
              "          -3.82932028e-02, -1.04680395e+00, -1.12596609e+00,\n",
              "          -6.08442269e-03, -5.57956193e-02, -2.61631399e-01,\n",
              "          -1.12664575e+00, -1.78295941e-03, -9.66992348e-01,\n",
              "          -5.63023632e-01, -9.49078810e-09, -9.46059368e-02,\n",
              "          -3.46400990e-01, -8.93269437e-03, -5.03918517e-01,\n",
              "          -3.05139746e-03, -2.60442709e-04, -5.34212727e-04,\n",
              "          -1.80743028e-01, -2.05467523e-01, -6.86029887e-02,\n",
              "          -1.12641649e+00, -1.27179690e-04, -7.30654981e-06,\n",
              "          -1.12076215e+00, -1.12664859e+00, -1.09569747e+00,\n",
              "          -1.12648291e+00, -2.10230015e-02, -1.09371619e+00,\n",
              "          -5.52947510e-01],\n",
              "         [-1.90657847e-02, -1.05465887e+00, -1.72524713e-02,\n",
              "          -1.05422491e+00, -1.05467696e+00, -1.03209580e+00,\n",
              "          -1.05468560e+00, -1.03835696e+00, -1.77047515e-01,\n",
              "          -1.84910475e-02, -8.71977632e-01, -9.26136934e-02,\n",
              "          -1.05189139e+00, -1.05239984e+00, -6.42821225e-03,\n",
              "          -1.05468236e+00, -1.66886327e-01, -8.45126929e-05,\n",
              "          -2.30068186e-01, -8.48650358e-02, -3.05897117e-04,\n",
              "          -6.47071882e-01, -2.05206515e-01, -2.10505369e-01,\n",
              "          -1.01232890e+00, -2.80667221e-01, -1.05469261e+00,\n",
              "          -9.94164288e-01, -1.01142884e+00, -2.14592739e-04,\n",
              "          -1.05450560e+00, -1.05458410e+00, -8.54201295e-04,\n",
              "          -3.58475186e-02, -9.79947387e-01, -1.05405366e+00,\n",
              "          -5.69582691e-03, -5.22321026e-02, -2.44921702e-01,\n",
              "          -1.05468990e+00, -1.66908657e-03, -9.05233138e-01,\n",
              "          -5.27064821e-01, -8.88463689e-09, -8.85637091e-02,\n",
              "          -3.24277287e-01, -8.36218712e-03, -4.71734592e-01,\n",
              "          -2.85651288e-03, -2.43808931e-04, -5.00093992e-04,\n",
              "          -1.69199455e-01, -1.92344863e-01, -6.42214996e-02,\n",
              "          -1.05447529e+00, -1.19057064e-04, -6.83990005e-06,\n",
              "          -1.04918207e+00, -1.05469257e+00, -1.02571821e+00,\n",
              "          -1.05453746e+00, -1.96803187e-02, -1.02386347e+00,\n",
              "          -5.17632234e-01],\n",
              "         [-6.26096306e-03, -3.46336663e-01, -5.66549384e-03,\n",
              "          -3.46194154e-01, -3.46342602e-01, -3.38927236e-01,\n",
              "          -3.46345439e-01, -3.40983320e-01, -5.81401694e-02,\n",
              "          -6.07222662e-03, -2.86346450e-01, -3.04131681e-02,\n",
              "          -3.45427856e-01, -3.45594825e-01, -2.11094378e-03,\n",
              "          -3.46344378e-01, -5.48033636e-02, -2.77529017e-05,\n",
              "          -7.55514886e-02, -2.78686067e-02, -1.00452753e-04,\n",
              "          -2.12490240e-01, -6.73872298e-02, -6.91273065e-02,\n",
              "          -3.32436035e-01, -9.21675733e-02, -3.46347741e-01,\n",
              "          -3.26471005e-01, -3.32140467e-01, -7.04695473e-05,\n",
              "          -3.46286329e-01, -3.46312108e-01, -2.80508925e-04,\n",
              "          -1.17718727e-02, -3.21802355e-01, -3.46137918e-01,\n",
              "          -1.87043767e-03, -1.71523633e-02, -8.04291961e-02,\n",
              "          -3.46346854e-01, -5.48106966e-04, -2.97267138e-01,\n",
              "          -1.73081435e-01, -2.91760263e-09, -2.90832043e-02,\n",
              "          -1.06488568e-01, -2.74603671e-03, -1.54911686e-01,\n",
              "          -9.38042780e-04, -8.00637759e-05, -1.64224555e-04,\n",
              "          -5.55629655e-02, -6.31636255e-02, -2.10895300e-02,\n",
              "          -3.46276376e-01, -3.90968373e-05, -2.24613685e-06,\n",
              "          -3.44538151e-01, -3.46347728e-01, -3.36832915e-01,\n",
              "          -3.46296793e-01, -6.46276829e-03, -3.36223841e-01,\n",
              "          -1.69983893e-01],\n",
              "         [-5.23755188e-04, -2.89724795e-02, -4.73941750e-04,\n",
              "          -2.89605581e-02, -2.89729763e-02, -2.83526506e-02,\n",
              "          -2.89732137e-02, -2.85246505e-02, -4.86366315e-03,\n",
              "          -5.07966612e-04, -2.39540526e-02, -2.54418600e-03,\n",
              "          -2.88964541e-02, -2.89104217e-02, -1.76589088e-04,\n",
              "          -2.89731249e-02, -4.58452569e-03, -2.32164383e-06,\n",
              "          -6.32019128e-03, -2.33132303e-03, -8.40328395e-06,\n",
              "          -1.77756783e-02, -5.63721761e-03, -5.78278214e-03,\n",
              "          -2.78096351e-02, -7.71019477e-03, -2.89734062e-02,\n",
              "          -2.73106359e-02, -2.77849096e-02, -5.89506609e-06,\n",
              "          -2.89682689e-02, -2.89704254e-02, -2.34657198e-05,\n",
              "          -9.84765336e-04, -2.69200842e-02, -2.89558537e-02,\n",
              "          -1.56469768e-04, -1.43486540e-03, -6.72823147e-03,\n",
              "          -2.89733320e-02, -4.58513913e-05, -2.48676129e-02,\n",
              "          -1.44789705e-02, -2.44069402e-10, -2.43292909e-03,\n",
              "          -8.90820463e-03, -2.29717211e-04, -1.29589967e-02,\n",
              "          -7.84711183e-05, -6.69766258e-06, -1.37380563e-05,\n",
              "          -4.64806950e-03, -5.28389582e-03, -1.76422551e-03,\n",
              "          -2.89674363e-02, -3.27061047e-06, -1.87898542e-07,\n",
              "          -2.88220266e-02, -2.89734051e-02, -2.81774521e-02,\n",
              "          -2.89691442e-02, -5.40637021e-04, -2.81265006e-02,\n",
              "          -1.42198484e-02],\n",
              "         [-2.02008588e-02, -1.11744758e+00, -1.82795905e-02,\n",
              "          -1.11698778e+00, -1.11746674e+00, -1.09354123e+00,\n",
              "          -1.11747590e+00, -1.10017514e+00, -1.87587970e-01,\n",
              "          -1.95919048e-02, -9.23890483e-01, -9.81274139e-02,\n",
              "          -1.11451534e+00, -1.11505406e+00, -6.81091338e-03,\n",
              "          -1.11747247e+00, -1.76821840e-01, -8.95441234e-05,\n",
              "          -2.43765206e-01, -8.99174428e-02, -3.24108584e-04,\n",
              "          -6.85595056e-01, -2.17423406e-01, -2.23037725e-01,\n",
              "          -1.07259751e+00, -2.97376636e-01, -1.11748332e+00,\n",
              "          -1.05335147e+00, -1.07164387e+00, -2.27368435e-04,\n",
              "          -1.11728518e+00, -1.11736835e+00, -9.05055839e-04,\n",
              "          -3.79816867e-02, -1.03828818e+00, -1.11680633e+00,\n",
              "          -6.03492576e-03, -5.53417206e-02, -2.59503021e-01,\n",
              "          -1.11748046e+00, -1.76845500e-03, -9.59125842e-01,\n",
              "          -5.58443421e-01, -9.41358031e-09, -9.38363152e-02,\n",
              "          -3.43583009e-01, -8.86002669e-03, -4.99819128e-01,\n",
              "          -3.02657427e-03, -2.58324001e-04, -5.29866894e-04,\n",
              "          -1.79272679e-01, -2.03796040e-01, -6.80449017e-02,\n",
              "          -1.11725306e+00, -1.26145080e-04, -7.24711086e-06,\n",
              "          -1.11164472e+00, -1.11748328e+00, -1.08678395e+00,\n",
              "          -1.11731894e+00, -2.08519789e-02, -1.08481878e+00,\n",
              "          -5.48449269e-01]])])"
            ]
          },
          "metadata": {},
          "execution_count": 69
        }
      ]
    },
    {
      "cell_type": "code",
      "source": [
        "net=Network([784,128,64,10])\n",
        "nabla_b,nabla_w=net.backpropagation(train_X[0],train_y[0])\n",
        "for nb in nabla_b:\n",
        "  print(nb.shape)\n",
        "for nw in nabla_w:\n",
        "  print(nw.shape)\n",
        "\n",
        "# Desired output:\n",
        "# (128, 1)\n",
        "# (64, 1)\n",
        "# (10, 1)\n",
        "# (128, 784)\n",
        "# (64, 128)\n",
        "# (10, 64)"
      ],
      "metadata": {
        "colab": {
          "base_uri": "https://localhost:8080/"
        },
        "id": "9pq4E3rHik-f",
        "outputId": "dbaf75a9-5fda-40d0-8205-6b82f9bb8c38"
      },
      "execution_count": 70,
      "outputs": [
        {
          "output_type": "stream",
          "name": "stdout",
          "text": [
            "(10, 1)\n",
            "(128, 1)\n",
            "(64, 1)\n",
            "(10, 1)\n",
            "(128, 784)\n",
            "(64, 128)\n",
            "(10, 64)\n"
          ]
        }
      ]
    },
    {
      "cell_type": "code",
      "execution_count": 78,
      "metadata": {
        "colab": {
          "base_uri": "https://localhost:8080/"
        },
        "id": "qXljiAYRlvdq",
        "outputId": "dc63e304-a1b0-46e4-902a-caf3414044d5"
      },
      "outputs": [
        {
          "output_type": "stream",
          "name": "stdout",
          "text": [
            "2399/10000 classified correctly.\n",
            "Epoch 1 completed.\n",
            "3453/10000 classified correctly.\n",
            "Epoch 2 completed.\n",
            "4381/10000 classified correctly.\n",
            "Epoch 3 completed.\n",
            "5055/10000 classified correctly.\n",
            "Epoch 4 completed.\n",
            "5546/10000 classified correctly.\n",
            "Epoch 5 completed.\n",
            "5947/10000 classified correctly.\n",
            "Epoch 6 completed.\n",
            "6289/10000 classified correctly.\n",
            "Epoch 7 completed.\n",
            "6530/10000 classified correctly.\n",
            "Epoch 8 completed.\n",
            "6722/10000 classified correctly.\n",
            "Epoch 9 completed.\n",
            "6886/10000 classified correctly.\n",
            "Epoch 10 completed.\n",
            "Test data:\n",
            "639/1000 classified correctly.\n"
          ]
        }
      ],
      "source": [
        "net=Network([784,128,64,10])\n",
        "net.SGD(train_data=train_data,epochs=10,mini_batch_size=20,lr=0.01)\n",
        "print(\"Test data:\")\n",
        "net.predict(test_data)"
      ]
    },
    {
      "cell_type": "markdown",
      "source": [
        "# End of question 1."
      ],
      "metadata": {
        "id": "mhMIoFT9m7OU"
      }
    },
    {
      "cell_type": "markdown",
      "source": [
        "#Question 2 :\n",
        "## Stochastic Gradient Descent\n",
        "Implement logistic regression using \"Stochastic gradient descent\" and use iris-dataset as training data.\n",
        "\n",
        "\n",
        "The word 'stochastic' means a system or process linked with a random probability. Hence, in Stochastic Gradient Descent, a few samples are selected randomly instead of the whole data set for each iteration. In Gradient Descent, there is a term called “batch” which denotes the total number of samples from a dataset that is used for calculating the gradient for each iteration. In typical Gradient Descent optimization, like Batch Gradient Descent, the batch is taken to be the whole dataset. Although using the whole dataset is really useful for getting to the minima in a less noisy and less random manner, the problem arises when our dataset gets big.\n",
        "Suppose, you have a million samples in your dataset, so if you use a typical Gradient Descent optimization technique, you will have to use all of the one million samples for completing one iteration while performing the Gradient Descent, and it has to be done for every iteration until the minima are reached. Hence, it becomes computationally very expensive to perform.\n",
        "This problem is solved by Stochastic Gradient Descent. In SGD, it uses only a single sample, i.e., a batch size of one, to perform each iteration. The sample is randomly shuffled and selected for performing the iteration.\n",
        "\n",
        "    Stochastic Gradient Descent (SGD) is a variant of the Gradient Descent algorithm used for optimizing machine learning models. In this variant, only one random training example is used to calculate the gradient and update the parameters at each iteration. Here are some of the advantages and disadvantages of using SGD:\n",
        "\n",
        "Advantages:\n",
        "\n",
        "Speed: SGD is faster than other variants of Gradient Descent such as Batch Gradient Descent and Mini-Batch Gradient Descent since it uses only one example to update the parameters.\n",
        "\n",
        "Memory Efficiency: Since SGD updates the parameters for each training example one at a time, it is memory-efficient and can handle large datasets that cannot fit into memory.\n",
        "\n",
        "Avoidance of Local Minima: Due to the noisy updates in SGD, it has the ability to escape from local minima and converge to a global minimum.\n",
        "\n",
        "Disadvantages:\n",
        "\n",
        "Noisy updates: The updates in SGD are noisy and have a high variance, which can make the optimization process less stable and lead to oscillations around the minimum.\n",
        "\n",
        "Slow Convergence: SGD may require more iterations to converge to the minimum since it updates the parameters for each training example one at a time.\n",
        "\n",
        "Sensitivity to Learning Rate: The choice of learning rate can be critical in SGD since using a high learning rate can cause the algorithm to overshoot the minimum, while a low learning rate can make the algorithm converge slowly.\n",
        "\n",
        "Less Accurate: Due to the noisy updates, SGD may not converge to the exact global minimum and can result in a suboptimal solution.\n",
        "\n",
        "\n",
        "\n",
        "\n",
        "So, in SGD, we find out the gradient of the cost function of a single example at each iteration instead of the sum of the gradient of the cost function of all the examples.\n",
        "\n",
        "In SGD, since only one sample from the dataset is chosen at random for each iteration, the path taken by the algorithm to reach the minima is usually noisier than your typical Gradient Descent algorithm. But that doesn’t matter all that much because the path taken by the algorithm does not matter, as long as we reach the minima and with a significantly shorter training time."
      ],
      "metadata": {
        "id": "Aa_iPRK6nEay"
      }
    },
    {
      "cell_type": "code",
      "source": [
        "import matplotlib.pyplot as plt\n",
        "import numpy as np\n",
        "import math\n",
        "import random\n",
        "\n",
        "# pre load sklearn iris datasets\n",
        "from sklearn import datasets\n",
        "iris = datasets.load_iris()\n",
        "\n",
        "X = iris.data\n",
        "Y = iris.target\n",
        "\n",
        "# print(X,Y)\n",
        "\n",
        "\n",
        "dataset = []\n",
        "\n",
        "target_label = 0 # choose the target label of flower type\n",
        "for index, x in enumerate(X):\n",
        "    transform_label = 0\n",
        "    if Y[index]>0:\n",
        "        transform_label=1\n",
        "    x = [x[0], x[2]]\n",
        "    dataset.append((x,transform_label))\n",
        "\n",
        "dataset = np.array(dataset)\n",
        "\n",
        "def sigmoid(z):\n",
        "    return 1 / (1 + np.exp(-z))\n",
        "\n",
        "def sgd(dataset, w):\n",
        "    #run sgd randomly\n",
        "    index = random.randint(0, len(dataset) - 1)\n",
        "    pred=sigmoid(np.dot(w,dataset[index][0]))\n",
        "    error=pred-dataset[index][1]\n",
        "    x=dataset[index][0]\n",
        "    # print(x)\n",
        "    gradient=np.array([x[0]*error,x[1]*error])*pred*(1-pred)\n",
        "    return gradient\n",
        "\n",
        "def cost(dataset, w):\n",
        "    total_cost = 0\n",
        "    pred=sigmoid(np.dot(w,dataset[index][0]))\n",
        "    for x,y in dataset:\n",
        "       total_cost+=y*np.log(pred)-(1-y)*np.log(1-pred) #((sigmoid(np.dot(w,x))-y)**2)/2\n",
        "    return total_cost\n",
        "\n",
        "def logistic_regression(dataset):\n",
        "    w = np.zeros(2)\n",
        "    limit = 1500 #update times\n",
        "    eta = 0.1 #update rate\n",
        "    costs = []\n",
        "    for i in range(limit):\n",
        "        w-=eta*sgd(dataset,w)\n",
        "        eta = eta * 0.99 #decrease update rate\n",
        "        costs.append(cost(dataset,w))\n",
        "    plt.plot(range(limit), costs)\n",
        "    plt.show()\n",
        "    return w,(limit, costs)\n",
        "\n",
        "def main():\n",
        "    #execute\n",
        "    w = logistic_regression(dataset)\n",
        "    #draw\n",
        "    ps = [v[0] for v in dataset]\n",
        "    label = [v[1] for v in dataset]\n",
        "    fig = plt.figure()\n",
        "    ax1 = fig.add_subplot(111)\n",
        "    #plot via label\n",
        "    tpx=[]\n",
        "    for index, label_value in enumerate(label):\n",
        "        px=ps[index][0]\n",
        "        py=ps[index][1]\n",
        "        tpx.append(px)\n",
        "        if label_value == 1:\n",
        "            ax1.scatter(px, py, c='b', marker=\"o\", label='O')\n",
        "        else:\n",
        "            ax1.scatter(px, py, c='r', marker=\"x\", label='X')\n",
        "\n",
        "    l = np.linspace(min(tpx),max(tpx))\n",
        "    a,b = (-w[0][0]/w[0][1], w[0][0])\n",
        "    ax1.plot(l, a*l + b, 'g-')\n",
        "    #plt.legend(loc='upper left');\n",
        "    plt.show()\n",
        "\n",
        "    limit = w[1][0]\n",
        "    costs = w[1][1]\n",
        "    w = w[0]\n",
        "\n",
        "    # # calculate score\n",
        "    # predicted_Y=[]\n",
        "    # answer_Y=[]\n",
        "    # for X,Y in dataset:\n",
        "\n",
        "    # predicted_Y = np.asarray(predicted_Y)\n",
        "    # predicted_Y = predicted_Y > 0.5\n",
        "    # print(answer_Y)\n",
        "    # print(predicted_Y)\n",
        "\n",
        "\n",
        "if __name__ == '__main__':\n",
        "    main()\n"
      ],
      "metadata": {
        "id": "RMgp1wALns9d",
        "colab": {
          "base_uri": "https://localhost:8080/",
          "height": 898
        },
        "outputId": "c42aad05-85ad-4a55-9e1f-faf6fe0c59ac"
      },
      "execution_count": 65,
      "outputs": [
        {
          "output_type": "stream",
          "name": "stderr",
          "text": [
            "<ipython-input-65-d2c0bec0661c>:26: VisibleDeprecationWarning: Creating an ndarray from ragged nested sequences (which is a list-or-tuple of lists-or-tuples-or ndarrays with different lengths or shapes) is deprecated. If you meant to do this, you must specify 'dtype=object' when creating the ndarray.\n",
            "  dataset = np.array(dataset)\n"
          ]
        },
        {
          "output_type": "display_data",
          "data": {
            "text/plain": [
              "<Figure size 640x480 with 1 Axes>"
            ],
            "image/png": "[encoded data removed]"
          },
          "metadata": {}
        },
        {
          "output_type": "display_data",
          "data": {
            "text/plain": [
              "<Figure size 640x480 with 1 Axes>"
            ],
            "image/png": "[encoded data removed]"
          },
          "metadata": {}
        }
      ]
    },
    {
      "cell_type": "code",
      "source": [
        "dataset[0]"
      ],
      "metadata": {
        "colab": {
          "base_uri": "https://localhost:8080/"
        },
        "id": "YF6t9M5n7d9V",
        "outputId": "ff4bee31-ad04-47af-dc1e-e55642b210d6"
      },
      "execution_count": 27,
      "outputs": [
        {
          "output_type": "execute_result",
          "data": {
            "text/plain": [
              "array([list([5.1, 1.4]), 1], dtype=object)"
            ]
          },
          "metadata": {},
          "execution_count": 27
        }
      ]
    },
    {
      "cell_type": "code",
      "source": [
        "plt.scatter(X[:,0], X[:,1], c=Y, marker='o', label='Data Points')"
      ],
      "metadata": {
        "colab": {
          "base_uri": "https://localhost:8080/",
          "height": 450
        },
        "id": "_AidURjGu_ko",
        "outputId": "86481b9f-d6cf-454d-d1d3-e5344b63252f"
      },
      "execution_count": 53,
      "outputs": [
        {
          "output_type": "execute_result",
          "data": {
            "text/plain": [
              "<matplotlib.collections.PathCollection at 0x7ef8922103a0>"
            ]
          },
          "metadata": {},
          "execution_count": 53
        },
        {
          "output_type": "display_data",
          "data": {
            "text/plain": [
              "<Figure size 640x480 with 1 Axes>"
            ],
            "image/png": "[encoded data removed]"
          },
          "metadata": {}
        }
      ]
    },
    {
      "cell_type": "markdown",
      "source": [
        "# Question 3 :\n",
        "## Implement linear regression using \"mini-batch\" gradient descent\n",
        "\n",
        "\n",
        "Mini-Batch Gradient Descent: Parameters are updated after computing the gradient of  the error with respect to a subset of the training set.\n",
        "Thus, mini-batch gradient descent makes a compromise between the speedy convergence and the noise associated with gradient update which makes it a more flexible and robust algorithm.\n",
        "\n",
        "\n",
        " Mini-Batch Gradient Descent: Algorithm-\n",
        "\n",
        "    Let theta = model parameters and max_iters = number of epochs. for itr = 1, 2, 3, …, max_iters:       for mini_batch (X_mini, y_mini):\n",
        "\n",
        "        Forward Pass on the batch X_mini:\n",
        "            Make predictions on the mini-batch\n",
        "            Compute error in predictions (J(theta)) with the current values of the parameters\n",
        "        Backward Pass:\n",
        "            Compute gradient(theta) = partial derivative of J(theta) w.r.t. theta\n",
        "        Update parameters:\n",
        "            theta = theta – learning_rate*gradient(theta)"
      ],
      "metadata": {
        "id": "I1CbSYwCn0BN"
      }
    },
    {
      "cell_type": "code",
      "source": [
        "import numpy as np\n",
        "import matplotlib.pyplot as plt\n",
        "\n",
        "# creating data\n",
        "mean = np.array([5.0, 6.0])\n",
        "cov = np.array([[1.0, 0.95], [0.95, 1.2]])\n",
        "data = np.random.multivariate_normal(mean, cov, 8000)\n",
        "\n",
        "# visualising data\n",
        "plt.scatter(data[:500, 0], data[:500, 1], marker='.')\n",
        "plt.show()\n",
        "\n",
        "# train-test-split\n",
        "data = np.hstack((np.ones((data.shape[0], 1)), data))\n",
        "\n",
        "split_factor = 0.90\n",
        "split = int(split_factor * data.shape[0])\n",
        "\n",
        "X_train = data[:split, :-1]\n",
        "y_train = data[:split, -1].reshape((-1, 1))\n",
        "X_test = data[split:, :-1]\n",
        "y_test = data[split:, -1].reshape((-1, 1))\n",
        "\n",
        "\n",
        "\n",
        "# linear regression using \"mini-batch\" gradient descent\n",
        "# function to compute hypothesis / predictions\n",
        "\n",
        "\n",
        "def hypothesis(X, theta):\n",
        "\treturn np.dot(X,theta)\n",
        "\n",
        "# function to compute gradient of error function w.r.t. theta\n",
        "\n",
        "\n",
        "def gradient(X, y, theta):\n",
        "\tpred=hypothesis(X,theta)\n",
        "\terror=(pred-y)/len(y)\n",
        "\treturn np.array([error.sum(),(error*X[:,1]).sum()])\n",
        "# function to compute the error for current values of theta\n",
        "\n",
        "\n",
        "def cost(X, y, theta):\n",
        "\treturn ((hypothesis(X,theta)-y)**2)/len(y)\n",
        "\n",
        "# function to create a list containing mini-batches\n",
        "\n",
        "\n",
        "def create_mini_batches(X, y, batch_size):\n",
        "\tmini_batches = []\n",
        "\ty = y.reshape(y.shape[0],1)\n",
        "\tdata = np.hstack((X, y))\n",
        "\tnp.random.shuffle(data)\n",
        "\tn_minibatches = data.shape[0]//batch_size\n",
        "\ti = 0\n",
        "\n",
        "\tfor i in range(n_minibatches):\n",
        "\t\tminibatch=data[i*batch_size:(i+1)*batch_size]\n",
        "\n",
        "\t\tmini_batches.append(minibatch)\n",
        "\tif data.shape[0] % batch_size != 0:\n",
        "\t\tminibatch=data[n_minibatches*batch_size:,:]\n",
        "\t\tmini_batches.append((minibatch))\n",
        "\treturn mini_batches\n",
        "\n",
        "# function to perform mini-batch gradient descent\n",
        "\n",
        "\n",
        "def gradientDescent(X, y, learning_rate=0.001, batch_size=32):\n",
        "\tmini_batches=create_mini_batches(X,y,batch_size)\n",
        "\tl=len(mini_batches)\n",
        "\terror_list=[]\n",
        "\ttheta=np.random.randn(2)\n",
        "\ty=y.reshape(y.shape[0],1)\n",
        "\tfor minibatch in mini_batches:\n",
        "\t\tXtest=minibatch[:,:-1]\n",
        "\t\tytest=minibatch[:,-1]\n",
        "\t\terror_list.append(cost(Xtest,ytest,theta))\n",
        "\t\tgradients=gradient(Xtest,ytest,theta)\n",
        "\t\ttheta-=learning_rate*gradients\n",
        "\treturn theta,error_list\n",
        "\n",
        "\n",
        "theta, error_list = gradientDescent(X_train, y_train)\n",
        "print(\"Bias = \", theta[0])\n",
        "print(\"Coefficients = \", theta[1:])\n",
        "\n",
        "# visualising gradient descent\n",
        "# plt.plot(error_list[:][0],np.arange(1,len(error_list)+1))\n",
        "plt.xlabel(\"Number of iterations\")\n",
        "plt.ylabel(\"Cost\")\n",
        "plt.show()\n",
        "\n",
        "\n",
        "# predicting output for X_test\n",
        "y_pred = hypothesis(X_test, theta)\n",
        "plt.scatter(X_test[:, 1], y_test[:, ], marker='.')\n",
        "plt.plot(X_test[:, 1], y_pred, color='orange')\n",
        "plt.show()\n",
        "\n",
        "# calculating error in predictions\n",
        "error = '...'\n",
        "\n"
      ],
      "metadata": {
        "id": "Oz46YIVYseN0",
        "colab": {
          "base_uri": "https://localhost:8080/",
          "height": 1000
        },
        "outputId": "4389b96c-9c37-4dd3-b8d9-2b16055342be"
      },
      "execution_count": 5,
      "outputs": [
        {
          "output_type": "display_data",
          "data": {
            "text/plain": [
              "<Figure size 640x480 with 1 Axes>"
            ],
            "image/png": "[encoded data removed]"
          },
          "metadata": {}
        },
        {
          "output_type": "stream",
          "name": "stdout",
          "text": [
            "Bias =  0.11802122403439833\n",
            "Coefficients =  [1.16646822]\n"
          ]
        },
        {
          "output_type": "display_data",
          "data": {
            "text/plain": [
              "<Figure size 640x480 with 1 Axes>"
            ],
            "image/png": "[encoded data removed]"
          },
          "metadata": {}
        },
        {
          "output_type": "display_data",
          "data": {
            "text/plain": [
              "<Figure size 640x480 with 1 Axes>"
            ],
            "image/png": "[encoded data removed]"
          },
          "metadata": {}
        }
      ]
    },
    {
      "cell_type": "code",
      "source": [
        "len(error_list[:][0])"
      ],
      "metadata": {
        "colab": {
          "base_uri": "https://localhost:8080/"
        },
        "id": "-VG1WX_Wo-Dt",
        "outputId": "130182b7-681e-41eb-ad81-9e94b4305139"
      },
      "execution_count": 27,
      "outputs": [
        {
          "output_type": "execute_result",
          "data": {
            "text/plain": [
              "7200"
            ]
          },
          "metadata": {},
          "execution_count": 27
        }
      ]
    }
  ],
  "metadata": {
    "colab": {
      "provenance": [],
      "include_colab_link": true
    },
    "kernelspec": {
      "display_name": "Python 3",
      "name": "python3"
    },
    "language_info": {
      "name": "python"
    }
  },
  "nbformat": 4,
  "nbformat_minor": 0
}